{
 "cells": [
  {
   "cell_type": "markdown",
   "metadata": {},
   "source": [
    "## Project Goals\n",
    "\n",
    "1. Analyse a Kaggle data set on heart failure predictors, using a step-wise backward eliminiation to find the main predictors of death from heart disease. Mainly for my own edification. I'm not actually trying to cure heart disease. The data categorizes paitents by those who died from heart disease, and those who did not. The outome is a binary variable, hence a logistic regression is appropriate.\n",
    "2. Implement the logistic regression in Python\n",
    "3. Analyse the accuracy of the model.\n",
    "\n",
    "Data from:\n",
    "https://www.kaggle.com/andrewmvd/heart-failure-clinical-data\n",
    "\n",
    "#### Backwards Elimination Procedure\n",
    "Step 1 - Select a significance level for variables to stay in the model. I am using the standard p=0.05<br>\n",
    "Step 2 - Fit the full model with all predictors <br>\n",
    "Step 3 - Consider the predictor with the highest p-value. If this p-value is higher than the selected significance level, go to step 4. If the hightest p-value is lower than the selected significance level, stop removing predictors as the model is fully fitted.<br>\n",
    "Step 4 - Remove the predictor from the model and re-run the regression. Go to Step 3<br>"
   ]
  },
  {
   "cell_type": "markdown",
   "metadata": {},
   "source": [
    "## Import the Required Modules"
   ]
  },
  {
   "cell_type": "code",
   "execution_count": 1,
   "metadata": {},
   "outputs": [],
   "source": [
    "import pandas as pd\n",
    "import numpy as np\n",
    "import matplotlib.pyplot as plt\n",
    "%matplotlib inline\n",
    "from sklearn.linear_model import LogisticRegression\n",
    "from sklearn.model_selection import train_test_split\n",
    "from sklearn.metrics import confusion_matrix, accuracy_score\n",
    "import seaborn as sns\n",
    "import statsmodels.api as sm"
   ]
  },
  {
   "cell_type": "markdown",
   "metadata": {},
   "source": [
    "## Load the dataset\n",
    "\n",
    "Let's have an initial look at the data"
   ]
  },
  {
   "cell_type": "code",
   "execution_count": 2,
   "metadata": {},
   "outputs": [],
   "source": [
    "raw_data = pd.read_csv('data/heart_failure_clinical_records_dataset.csv')"
   ]
  },
  {
   "cell_type": "code",
   "execution_count": 3,
   "metadata": {
    "scrolled": false
   },
   "outputs": [
    {
     "data": {
      "text/html": [
       "<div>\n",
       "<style scoped>\n",
       "    .dataframe tbody tr th:only-of-type {\n",
       "        vertical-align: middle;\n",
       "    }\n",
       "\n",
       "    .dataframe tbody tr th {\n",
       "        vertical-align: top;\n",
       "    }\n",
       "\n",
       "    .dataframe thead th {\n",
       "        text-align: right;\n",
       "    }\n",
       "</style>\n",
       "<table border=\"1\" class=\"dataframe\">\n",
       "  <thead>\n",
       "    <tr style=\"text-align: right;\">\n",
       "      <th></th>\n",
       "      <th>age</th>\n",
       "      <th>anaemia</th>\n",
       "      <th>creatinine_phosphokinase</th>\n",
       "      <th>diabetes</th>\n",
       "      <th>ejection_fraction</th>\n",
       "      <th>high_blood_pressure</th>\n",
       "      <th>platelets</th>\n",
       "      <th>serum_creatinine</th>\n",
       "      <th>serum_sodium</th>\n",
       "      <th>sex</th>\n",
       "      <th>smoking</th>\n",
       "      <th>time</th>\n",
       "      <th>DEATH_EVENT</th>\n",
       "    </tr>\n",
       "  </thead>\n",
       "  <tbody>\n",
       "    <tr>\n",
       "      <th>0</th>\n",
       "      <td>75.0</td>\n",
       "      <td>0</td>\n",
       "      <td>582</td>\n",
       "      <td>0</td>\n",
       "      <td>20</td>\n",
       "      <td>1</td>\n",
       "      <td>265000.00</td>\n",
       "      <td>1.9</td>\n",
       "      <td>130</td>\n",
       "      <td>1</td>\n",
       "      <td>0</td>\n",
       "      <td>4</td>\n",
       "      <td>1</td>\n",
       "    </tr>\n",
       "    <tr>\n",
       "      <th>1</th>\n",
       "      <td>55.0</td>\n",
       "      <td>0</td>\n",
       "      <td>7861</td>\n",
       "      <td>0</td>\n",
       "      <td>38</td>\n",
       "      <td>0</td>\n",
       "      <td>263358.03</td>\n",
       "      <td>1.1</td>\n",
       "      <td>136</td>\n",
       "      <td>1</td>\n",
       "      <td>0</td>\n",
       "      <td>6</td>\n",
       "      <td>1</td>\n",
       "    </tr>\n",
       "    <tr>\n",
       "      <th>2</th>\n",
       "      <td>65.0</td>\n",
       "      <td>0</td>\n",
       "      <td>146</td>\n",
       "      <td>0</td>\n",
       "      <td>20</td>\n",
       "      <td>0</td>\n",
       "      <td>162000.00</td>\n",
       "      <td>1.3</td>\n",
       "      <td>129</td>\n",
       "      <td>1</td>\n",
       "      <td>1</td>\n",
       "      <td>7</td>\n",
       "      <td>1</td>\n",
       "    </tr>\n",
       "    <tr>\n",
       "      <th>3</th>\n",
       "      <td>50.0</td>\n",
       "      <td>1</td>\n",
       "      <td>111</td>\n",
       "      <td>0</td>\n",
       "      <td>20</td>\n",
       "      <td>0</td>\n",
       "      <td>210000.00</td>\n",
       "      <td>1.9</td>\n",
       "      <td>137</td>\n",
       "      <td>1</td>\n",
       "      <td>0</td>\n",
       "      <td>7</td>\n",
       "      <td>1</td>\n",
       "    </tr>\n",
       "    <tr>\n",
       "      <th>4</th>\n",
       "      <td>65.0</td>\n",
       "      <td>1</td>\n",
       "      <td>160</td>\n",
       "      <td>1</td>\n",
       "      <td>20</td>\n",
       "      <td>0</td>\n",
       "      <td>327000.00</td>\n",
       "      <td>2.7</td>\n",
       "      <td>116</td>\n",
       "      <td>0</td>\n",
       "      <td>0</td>\n",
       "      <td>8</td>\n",
       "      <td>1</td>\n",
       "    </tr>\n",
       "  </tbody>\n",
       "</table>\n",
       "</div>"
      ],
      "text/plain": [
       "    age  anaemia  creatinine_phosphokinase  diabetes  ejection_fraction  \\\n",
       "0  75.0        0                       582         0                 20   \n",
       "1  55.0        0                      7861         0                 38   \n",
       "2  65.0        0                       146         0                 20   \n",
       "3  50.0        1                       111         0                 20   \n",
       "4  65.0        1                       160         1                 20   \n",
       "\n",
       "   high_blood_pressure  platelets  serum_creatinine  serum_sodium  sex  \\\n",
       "0                    1  265000.00               1.9           130    1   \n",
       "1                    0  263358.03               1.1           136    1   \n",
       "2                    0  162000.00               1.3           129    1   \n",
       "3                    0  210000.00               1.9           137    1   \n",
       "4                    0  327000.00               2.7           116    0   \n",
       "\n",
       "   smoking  time  DEATH_EVENT  \n",
       "0        0     4            1  \n",
       "1        0     6            1  \n",
       "2        1     7            1  \n",
       "3        0     7            1  \n",
       "4        0     8            1  "
      ]
     },
     "execution_count": 3,
     "metadata": {},
     "output_type": "execute_result"
    }
   ],
   "source": [
    "raw_data.head()"
   ]
  },
  {
   "cell_type": "code",
   "execution_count": 4,
   "metadata": {},
   "outputs": [
    {
     "data": {
      "text/plain": [
       "age                         0\n",
       "anaemia                     0\n",
       "creatinine_phosphokinase    0\n",
       "diabetes                    0\n",
       "ejection_fraction           0\n",
       "high_blood_pressure         0\n",
       "platelets                   0\n",
       "serum_creatinine            0\n",
       "serum_sodium                0\n",
       "sex                         0\n",
       "smoking                     0\n",
       "time                        0\n",
       "DEATH_EVENT                 0\n",
       "dtype: int64"
      ]
     },
     "execution_count": 4,
     "metadata": {},
     "output_type": "execute_result"
    }
   ],
   "source": [
    "raw_data.isnull().sum()"
   ]
  },
  {
   "cell_type": "markdown",
   "metadata": {},
   "source": [
    "There are no null values to contend with in this data set."
   ]
  },
  {
   "cell_type": "markdown",
   "metadata": {},
   "source": [
    "### Data included in the dataset\n",
    "* **age** - Paitent age<br>\n",
    "* **anaemia** - Decrease of red blood cells or hemoglobin (boolean)<br>\n",
    "* **creatinine_phosphokinase** - Level of the CPK enzyme in the blood (mcg/L)<br>\n",
    "* **diabetes** - If the patient has diabetes (boolean)<br>\n",
    "* **ejection_fraction** - Percentage of blood leaving the heart at each contraction (percentage)<br>\n",
    "* **high_blood_pressure** - If the patient has hypertension (boolean)<br>\n",
    "* **platelet** - Platelets in the blood (kiloplatelets/mL)<br>\n",
    "* **serum_creatinine** - Level of serum creatinine in the blood (mg/dL)<br>\n",
    "* **serum_sodium** - Level of serum sodium in the blood (mEq/L)<br>\n",
    "* **sex** - (binary) 1 = Male, 0 = Female <br>\n",
    "* **smoking** - If the patient smokes or not (boolean)<br>\n",
    "* **time** -Follow-up period (days)<br>\n",
    "* **DEATH_EVENT** - If the patient deceased during the follow-up period (boolean)<br>\n",
    "\n",
    "\n",
    "Fortunately, the categorical data columns have already been converted into boolean values, so there is no need to dummify the data with the pandas.get_dummies() method"
   ]
  },
  {
   "cell_type": "markdown",
   "metadata": {},
   "source": [
    "A heatmap should give an initial indication of the correlations we can expect to see present in the final model."
   ]
  },
  {
   "cell_type": "code",
   "execution_count": 5,
   "metadata": {},
   "outputs": [
    {
     "data": {
      "text/plain": [
       "<AxesSubplot:>"
      ]
     },
     "execution_count": 5,
     "metadata": {},
     "output_type": "execute_result"
    },
    {
     "data": {
      "image/png": "[encoded data removed]",
      "text/plain": [
       "<Figure size 720x720 with 2 Axes>"
      ]
     },
     "metadata": {
      "needs_background": "light"
     },
     "output_type": "display_data"
    }
   ],
   "source": [
    "plt.figure(figsize=(10, 10))\n",
    "sns.heatmap(raw_data.corr(), vmin=-1, cmap ='PRGn')"
   ]
  },
  {
   "cell_type": "markdown",
   "metadata": {},
   "source": [
    "The heatmap indicates that age, ejection_fraction, serum_creatine, serum_sodium, and time appear to correlate most with death in this data set. Surprisingly, smoking and diabetes don't correlate strongly with heart disease in this data set."
   ]
  },
  {
   "cell_type": "markdown",
   "metadata": {},
   "source": [
    "## Perform the Backwards Eliminiation\n",
    "\n",
    "Note: There are only 299 rows in the whole data set which is too small for a reliable logistic regression. However, this notebook is intended to be an example of the concept of backwards logistic regressions models, rather than an actual attempt to predict to death by heart disease. So I think I'll just carry right on.\n",
    "\n",
    "#### Bakwards Elimination Step 1 - Choose a p-value.\n",
    "I will use the standard p value = 0.05<br>\n",
    "#### Backwards Elimination Step 2 - Fit the model with all predictors\n",
    "\n",
    "\n"
   ]
  },
  {
   "cell_type": "code",
   "execution_count": 6,
   "metadata": {},
   "outputs": [],
   "source": [
    "x = raw_data.loc[:, 'age': 'time']\n",
    "y = raw_data['DEATH_EVENT']"
   ]
  },
  {
   "cell_type": "code",
   "execution_count": 7,
   "metadata": {},
   "outputs": [],
   "source": [
    "x=sm.add_constant(x)\n",
    "model=sm.OLS(y, x).fit()"
   ]
  },
  {
   "cell_type": "code",
   "execution_count": 8,
   "metadata": {},
   "outputs": [
    {
     "data": {
      "text/html": [
       "<table class=\"simpletable\">\n",
       "<caption>OLS Regression Results</caption>\n",
       "<tr>\n",
       "  <th>Dep. Variable:</th>       <td>DEATH_EVENT</td>   <th>  R-squared:         </th> <td>   0.417</td>\n",
       "</tr>\n",
       "<tr>\n",
       "  <th>Model:</th>                   <td>OLS</td>       <th>  Adj. R-squared:    </th> <td>   0.392</td>\n",
       "</tr>\n",
       "<tr>\n",
       "  <th>Method:</th>             <td>Least Squares</td>  <th>  F-statistic:       </th> <td>   17.04</td>\n",
       "</tr>\n",
       "<tr>\n",
       "  <th>Date:</th>             <td>Tue, 02 Feb 2021</td> <th>  Prob (F-statistic):</th> <td>2.35e-27</td>\n",
       "</tr>\n",
       "<tr>\n",
       "  <th>Time:</th>                 <td>14:16:34</td>     <th>  Log-Likelihood:    </th> <td> -115.90</td>\n",
       "</tr>\n",
       "<tr>\n",
       "  <th>No. Observations:</th>      <td>   299</td>      <th>  AIC:               </th> <td>   257.8</td>\n",
       "</tr>\n",
       "<tr>\n",
       "  <th>Df Residuals:</th>          <td>   286</td>      <th>  BIC:               </th> <td>   305.9</td>\n",
       "</tr>\n",
       "<tr>\n",
       "  <th>Df Model:</th>              <td>    12</td>      <th>                     </th>     <td> </td>   \n",
       "</tr>\n",
       "<tr>\n",
       "  <th>Covariance Type:</th>      <td>nonrobust</td>    <th>                     </th>     <td> </td>   \n",
       "</tr>\n",
       "</table>\n",
       "<table class=\"simpletable\">\n",
       "<tr>\n",
       "              <td></td>                <th>coef</th>     <th>std err</th>      <th>t</th>      <th>P>|t|</th>  <th>[0.025</th>    <th>0.975]</th>  \n",
       "</tr>\n",
       "<tr>\n",
       "  <th>const</th>                    <td>    1.6636</td> <td>    0.695</td> <td>    2.392</td> <td> 0.017</td> <td>    0.295</td> <td>    3.032</td>\n",
       "</tr>\n",
       "<tr>\n",
       "  <th>age</th>                      <td>    0.0058</td> <td>    0.002</td> <td>    3.088</td> <td> 0.002</td> <td>    0.002</td> <td>    0.009</td>\n",
       "</tr>\n",
       "<tr>\n",
       "  <th>anaemia</th>                  <td>   -0.0028</td> <td>    0.044</td> <td>   -0.062</td> <td> 0.950</td> <td>   -0.090</td> <td>    0.085</td>\n",
       "</tr>\n",
       "<tr>\n",
       "  <th>creatinine_phosphokinase</th> <td> 3.427e-05</td> <td> 2.25e-05</td> <td>    1.525</td> <td> 0.128</td> <td>-9.96e-06</td> <td> 7.85e-05</td>\n",
       "</tr>\n",
       "<tr>\n",
       "  <th>diabetes</th>                 <td>    0.0193</td> <td>    0.044</td> <td>    0.437</td> <td> 0.662</td> <td>   -0.068</td> <td>    0.106</td>\n",
       "</tr>\n",
       "<tr>\n",
       "  <th>ejection_fraction</th>        <td>   -0.0098</td> <td>    0.002</td> <td>   -5.333</td> <td> 0.000</td> <td>   -0.013</td> <td>   -0.006</td>\n",
       "</tr>\n",
       "<tr>\n",
       "  <th>high_blood_pressure</th>      <td>   -0.0143</td> <td>    0.046</td> <td>   -0.313</td> <td> 0.754</td> <td>   -0.104</td> <td>    0.076</td>\n",
       "</tr>\n",
       "<tr>\n",
       "  <th>platelets</th>                <td> -8.37e-08</td> <td> 2.21e-07</td> <td>   -0.379</td> <td> 0.705</td> <td>-5.18e-07</td> <td> 3.51e-07</td>\n",
       "</tr>\n",
       "<tr>\n",
       "  <th>serum_creatinine</th>         <td>    0.0853</td> <td>    0.021</td> <td>    4.017</td> <td> 0.000</td> <td>    0.043</td> <td>    0.127</td>\n",
       "</tr>\n",
       "<tr>\n",
       "  <th>serum_sodium</th>             <td>   -0.0076</td> <td>    0.005</td> <td>   -1.513</td> <td> 0.131</td> <td>   -0.017</td> <td>    0.002</td>\n",
       "</tr>\n",
       "<tr>\n",
       "  <th>sex</th>                      <td>   -0.0637</td> <td>    0.051</td> <td>   -1.247</td> <td> 0.214</td> <td>   -0.164</td> <td>    0.037</td>\n",
       "</tr>\n",
       "<tr>\n",
       "  <th>smoking</th>                  <td>   -0.0057</td> <td>    0.051</td> <td>   -0.112</td> <td> 0.911</td> <td>   -0.106</td> <td>    0.095</td>\n",
       "</tr>\n",
       "<tr>\n",
       "  <th>time</th>                     <td>   -0.0027</td> <td>    0.000</td> <td>   -9.415</td> <td> 0.000</td> <td>   -0.003</td> <td>   -0.002</td>\n",
       "</tr>\n",
       "</table>\n",
       "<table class=\"simpletable\">\n",
       "<tr>\n",
       "  <th>Omnibus:</th>       <td>10.068</td> <th>  Durbin-Watson:     </th> <td>   1.578</td>\n",
       "</tr>\n",
       "<tr>\n",
       "  <th>Prob(Omnibus):</th> <td> 0.007</td> <th>  Jarque-Bera (JB):  </th> <td>   8.014</td>\n",
       "</tr>\n",
       "<tr>\n",
       "  <th>Skew:</th>          <td> 0.306</td> <th>  Prob(JB):          </th> <td>  0.0182</td>\n",
       "</tr>\n",
       "<tr>\n",
       "  <th>Kurtosis:</th>      <td> 2.483</td> <th>  Cond. No.          </th> <td>9.26e+06</td>\n",
       "</tr>\n",
       "</table><br/><br/>Notes:<br/>[1] Standard Errors assume that the covariance matrix of the errors is correctly specified.<br/>[2] The condition number is large, 9.26e+06. This might indicate that there are<br/>strong multicollinearity or other numerical problems."
      ],
      "text/plain": [
       "<class 'statsmodels.iolib.summary.Summary'>\n",
       "\"\"\"\n",
       "                            OLS Regression Results                            \n",
       "==============================================================================\n",
       "Dep. Variable:            DEATH_EVENT   R-squared:                       0.417\n",
       "Model:                            OLS   Adj. R-squared:                  0.392\n",
       "Method:                 Least Squares   F-statistic:                     17.04\n",
       "Date:                Tue, 02 Feb 2021   Prob (F-statistic):           2.35e-27\n",
       "Time:                        14:16:34   Log-Likelihood:                -115.90\n",
       "No. Observations:                 299   AIC:                             257.8\n",
       "Df Residuals:                     286   BIC:                             305.9\n",
       "Df Model:                          12                                         \n",
       "Covariance Type:            nonrobust                                         \n",
       "============================================================================================\n",
       "                               coef    std err          t      P>|t|      [0.025      0.975]\n",
       "--------------------------------------------------------------------------------------------\n",
       "const                        1.6636      0.695      2.392      0.017       0.295       3.032\n",
       "age                          0.0058      0.002      3.088      0.002       0.002       0.009\n",
       "anaemia                     -0.0028      0.044     -0.062      0.950      -0.090       0.085\n",
       "creatinine_phosphokinase  3.427e-05   2.25e-05      1.525      0.128   -9.96e-06    7.85e-05\n",
       "diabetes                     0.0193      0.044      0.437      0.662      -0.068       0.106\n",
       "ejection_fraction           -0.0098      0.002     -5.333      0.000      -0.013      -0.006\n",
       "high_blood_pressure         -0.0143      0.046     -0.313      0.754      -0.104       0.076\n",
       "platelets                 -8.37e-08   2.21e-07     -0.379      0.705   -5.18e-07    3.51e-07\n",
       "serum_creatinine             0.0853      0.021      4.017      0.000       0.043       0.127\n",
       "serum_sodium                -0.0076      0.005     -1.513      0.131      -0.017       0.002\n",
       "sex                         -0.0637      0.051     -1.247      0.214      -0.164       0.037\n",
       "smoking                     -0.0057      0.051     -0.112      0.911      -0.106       0.095\n",
       "time                        -0.0027      0.000     -9.415      0.000      -0.003      -0.002\n",
       "==============================================================================\n",
       "Omnibus:                       10.068   Durbin-Watson:                   1.578\n",
       "Prob(Omnibus):                  0.007   Jarque-Bera (JB):                8.014\n",
       "Skew:                           0.306   Prob(JB):                       0.0182\n",
       "Kurtosis:                       2.483   Cond. No.                     9.26e+06\n",
       "==============================================================================\n",
       "\n",
       "Notes:\n",
       "[1] Standard Errors assume that the covariance matrix of the errors is correctly specified.\n",
       "[2] The condition number is large, 9.26e+06. This might indicate that there are\n",
       "strong multicollinearity or other numerical problems.\n",
       "\"\"\""
      ]
     },
     "execution_count": 8,
     "metadata": {},
     "output_type": "execute_result"
    }
   ],
   "source": [
    "model.summary()"
   ]
  },
  {
   "cell_type": "markdown",
   "metadata": {},
   "source": [
    "#### Backwards Elimination Step 3\n",
    "\n",
    "The highest highest p-value is that associated with the 'anaemia' column. Remove anaemia from the model, and re-run."
   ]
  },
  {
   "cell_type": "code",
   "execution_count": 9,
   "metadata": {},
   "outputs": [],
   "source": [
    "x = x.drop(labels='anaemia', axis='columns')\n",
    "model=sm.OLS(y, x).fit()"
   ]
  },
  {
   "cell_type": "code",
   "execution_count": 10,
   "metadata": {},
   "outputs": [
    {
     "data": {
      "text/html": [
       "<table class=\"simpletable\">\n",
       "<caption>OLS Regression Results</caption>\n",
       "<tr>\n",
       "  <th>Dep. Variable:</th>       <td>DEATH_EVENT</td>   <th>  R-squared:         </th> <td>   0.417</td>\n",
       "</tr>\n",
       "<tr>\n",
       "  <th>Model:</th>                   <td>OLS</td>       <th>  Adj. R-squared:    </th> <td>   0.394</td>\n",
       "</tr>\n",
       "<tr>\n",
       "  <th>Method:</th>             <td>Least Squares</td>  <th>  F-statistic:       </th> <td>   18.65</td>\n",
       "</tr>\n",
       "<tr>\n",
       "  <th>Date:</th>             <td>Tue, 02 Feb 2021</td> <th>  Prob (F-statistic):</th> <td>5.31e-28</td>\n",
       "</tr>\n",
       "<tr>\n",
       "  <th>Time:</th>                 <td>14:16:35</td>     <th>  Log-Likelihood:    </th> <td> -115.90</td>\n",
       "</tr>\n",
       "<tr>\n",
       "  <th>No. Observations:</th>      <td>   299</td>      <th>  AIC:               </th> <td>   255.8</td>\n",
       "</tr>\n",
       "<tr>\n",
       "  <th>Df Residuals:</th>          <td>   287</td>      <th>  BIC:               </th> <td>   300.2</td>\n",
       "</tr>\n",
       "<tr>\n",
       "  <th>Df Model:</th>              <td>    11</td>      <th>                     </th>     <td> </td>   \n",
       "</tr>\n",
       "<tr>\n",
       "  <th>Covariance Type:</th>      <td>nonrobust</td>    <th>                     </th>     <td> </td>   \n",
       "</tr>\n",
       "</table>\n",
       "<table class=\"simpletable\">\n",
       "<tr>\n",
       "              <td></td>                <th>coef</th>     <th>std err</th>      <th>t</th>      <th>P>|t|</th>  <th>[0.025</th>    <th>0.975]</th>  \n",
       "</tr>\n",
       "<tr>\n",
       "  <th>const</th>                    <td>    1.6650</td> <td>    0.694</td> <td>    2.400</td> <td> 0.017</td> <td>    0.300</td> <td>    3.031</td>\n",
       "</tr>\n",
       "<tr>\n",
       "  <th>age</th>                      <td>    0.0058</td> <td>    0.002</td> <td>    3.094</td> <td> 0.002</td> <td>    0.002</td> <td>    0.009</td>\n",
       "</tr>\n",
       "<tr>\n",
       "  <th>creatinine_phosphokinase</th> <td> 3.453e-05</td> <td>  2.2e-05</td> <td>    1.568</td> <td> 0.118</td> <td>-8.81e-06</td> <td> 7.79e-05</td>\n",
       "</tr>\n",
       "<tr>\n",
       "  <th>diabetes</th>                 <td>    0.0193</td> <td>    0.044</td> <td>    0.439</td> <td> 0.661</td> <td>   -0.067</td> <td>    0.106</td>\n",
       "</tr>\n",
       "<tr>\n",
       "  <th>ejection_fraction</th>        <td>   -0.0098</td> <td>    0.002</td> <td>   -5.343</td> <td> 0.000</td> <td>   -0.013</td> <td>   -0.006</td>\n",
       "</tr>\n",
       "<tr>\n",
       "  <th>high_blood_pressure</th>      <td>   -0.0142</td> <td>    0.046</td> <td>   -0.313</td> <td> 0.755</td> <td>   -0.104</td> <td>    0.075</td>\n",
       "</tr>\n",
       "<tr>\n",
       "  <th>platelets</th>                <td>-8.313e-08</td> <td>  2.2e-07</td> <td>   -0.377</td> <td> 0.706</td> <td>-5.17e-07</td> <td>  3.5e-07</td>\n",
       "</tr>\n",
       "<tr>\n",
       "  <th>serum_creatinine</th>         <td>    0.0852</td> <td>    0.021</td> <td>    4.024</td> <td> 0.000</td> <td>    0.044</td> <td>    0.127</td>\n",
       "</tr>\n",
       "<tr>\n",
       "  <th>serum_sodium</th>             <td>   -0.0076</td> <td>    0.005</td> <td>   -1.524</td> <td> 0.129</td> <td>   -0.017</td> <td>    0.002</td>\n",
       "</tr>\n",
       "<tr>\n",
       "  <th>sex</th>                      <td>   -0.0635</td> <td>    0.051</td> <td>   -1.247</td> <td> 0.213</td> <td>   -0.164</td> <td>    0.037</td>\n",
       "</tr>\n",
       "<tr>\n",
       "  <th>smoking</th>                  <td>   -0.0055</td> <td>    0.051</td> <td>   -0.107</td> <td> 0.915</td> <td>   -0.106</td> <td>    0.095</td>\n",
       "</tr>\n",
       "<tr>\n",
       "  <th>time</th>                     <td>   -0.0027</td> <td>    0.000</td> <td>   -9.514</td> <td> 0.000</td> <td>   -0.003</td> <td>   -0.002</td>\n",
       "</tr>\n",
       "</table>\n",
       "<table class=\"simpletable\">\n",
       "<tr>\n",
       "  <th>Omnibus:</th>       <td>10.042</td> <th>  Durbin-Watson:     </th> <td>   1.577</td>\n",
       "</tr>\n",
       "<tr>\n",
       "  <th>Prob(Omnibus):</th> <td> 0.007</td> <th>  Jarque-Bera (JB):  </th> <td>   7.996</td>\n",
       "</tr>\n",
       "<tr>\n",
       "  <th>Skew:</th>          <td> 0.306</td> <th>  Prob(JB):          </th> <td>  0.0184</td>\n",
       "</tr>\n",
       "<tr>\n",
       "  <th>Kurtosis:</th>      <td> 2.483</td> <th>  Cond. No.          </th> <td>9.26e+06</td>\n",
       "</tr>\n",
       "</table><br/><br/>Notes:<br/>[1] Standard Errors assume that the covariance matrix of the errors is correctly specified.<br/>[2] The condition number is large, 9.26e+06. This might indicate that there are<br/>strong multicollinearity or other numerical problems."
      ],
      "text/plain": [
       "<class 'statsmodels.iolib.summary.Summary'>\n",
       "\"\"\"\n",
       "                            OLS Regression Results                            \n",
       "==============================================================================\n",
       "Dep. Variable:            DEATH_EVENT   R-squared:                       0.417\n",
       "Model:                            OLS   Adj. R-squared:                  0.394\n",
       "Method:                 Least Squares   F-statistic:                     18.65\n",
       "Date:                Tue, 02 Feb 2021   Prob (F-statistic):           5.31e-28\n",
       "Time:                        14:16:35   Log-Likelihood:                -115.90\n",
       "No. Observations:                 299   AIC:                             255.8\n",
       "Df Residuals:                     287   BIC:                             300.2\n",
       "Df Model:                          11                                         \n",
       "Covariance Type:            nonrobust                                         \n",
       "============================================================================================\n",
       "                               coef    std err          t      P>|t|      [0.025      0.975]\n",
       "--------------------------------------------------------------------------------------------\n",
       "const                        1.6650      0.694      2.400      0.017       0.300       3.031\n",
       "age                          0.0058      0.002      3.094      0.002       0.002       0.009\n",
       "creatinine_phosphokinase  3.453e-05    2.2e-05      1.568      0.118   -8.81e-06    7.79e-05\n",
       "diabetes                     0.0193      0.044      0.439      0.661      -0.067       0.106\n",
       "ejection_fraction           -0.0098      0.002     -5.343      0.000      -0.013      -0.006\n",
       "high_blood_pressure         -0.0142      0.046     -0.313      0.755      -0.104       0.075\n",
       "platelets                -8.313e-08    2.2e-07     -0.377      0.706   -5.17e-07     3.5e-07\n",
       "serum_creatinine             0.0852      0.021      4.024      0.000       0.044       0.127\n",
       "serum_sodium                -0.0076      0.005     -1.524      0.129      -0.017       0.002\n",
       "sex                         -0.0635      0.051     -1.247      0.213      -0.164       0.037\n",
       "smoking                     -0.0055      0.051     -0.107      0.915      -0.106       0.095\n",
       "time                        -0.0027      0.000     -9.514      0.000      -0.003      -0.002\n",
       "==============================================================================\n",
       "Omnibus:                       10.042   Durbin-Watson:                   1.577\n",
       "Prob(Omnibus):                  0.007   Jarque-Bera (JB):                7.996\n",
       "Skew:                           0.306   Prob(JB):                       0.0184\n",
       "Kurtosis:                       2.483   Cond. No.                     9.26e+06\n",
       "==============================================================================\n",
       "\n",
       "Notes:\n",
       "[1] Standard Errors assume that the covariance matrix of the errors is correctly specified.\n",
       "[2] The condition number is large, 9.26e+06. This might indicate that there are\n",
       "strong multicollinearity or other numerical problems.\n",
       "\"\"\""
      ]
     },
     "execution_count": 10,
     "metadata": {},
     "output_type": "execute_result"
    }
   ],
   "source": [
    "model.summary()"
   ]
  },
  {
   "cell_type": "markdown",
   "metadata": {},
   "source": [
    "#### Backwards Elimination Step 3 (again)\n",
    "\n",
    "Oddly, the highest highest p-value is now that associated with the 'smoking' column. Remove from the model, and re-run."
   ]
  },
  {
   "cell_type": "code",
   "execution_count": 11,
   "metadata": {},
   "outputs": [],
   "source": [
    "x = x.drop(labels='smoking', axis='columns')\n",
    "model=sm.OLS(y, x).fit()"
   ]
  },
  {
   "cell_type": "code",
   "execution_count": 12,
   "metadata": {},
   "outputs": [
    {
     "data": {
      "text/html": [
       "<table class=\"simpletable\">\n",
       "<caption>OLS Regression Results</caption>\n",
       "<tr>\n",
       "  <th>Dep. Variable:</th>       <td>DEATH_EVENT</td>   <th>  R-squared:         </th> <td>   0.417</td>\n",
       "</tr>\n",
       "<tr>\n",
       "  <th>Model:</th>                   <td>OLS</td>       <th>  Adj. R-squared:    </th> <td>   0.397</td>\n",
       "</tr>\n",
       "<tr>\n",
       "  <th>Method:</th>             <td>Least Squares</td>  <th>  F-statistic:       </th> <td>   20.58</td>\n",
       "</tr>\n",
       "<tr>\n",
       "  <th>Date:</th>             <td>Tue, 02 Feb 2021</td> <th>  Prob (F-statistic):</th> <td>1.14e-28</td>\n",
       "</tr>\n",
       "<tr>\n",
       "  <th>Time:</th>                 <td>14:16:35</td>     <th>  Log-Likelihood:    </th> <td> -115.91</td>\n",
       "</tr>\n",
       "<tr>\n",
       "  <th>No. Observations:</th>      <td>   299</td>      <th>  AIC:               </th> <td>   253.8</td>\n",
       "</tr>\n",
       "<tr>\n",
       "  <th>Df Residuals:</th>          <td>   288</td>      <th>  BIC:               </th> <td>   294.5</td>\n",
       "</tr>\n",
       "<tr>\n",
       "  <th>Df Model:</th>              <td>    10</td>      <th>                     </th>     <td> </td>   \n",
       "</tr>\n",
       "<tr>\n",
       "  <th>Covariance Type:</th>      <td>nonrobust</td>    <th>                     </th>     <td> </td>   \n",
       "</tr>\n",
       "</table>\n",
       "<table class=\"simpletable\">\n",
       "<tr>\n",
       "              <td></td>                <th>coef</th>     <th>std err</th>      <th>t</th>      <th>P>|t|</th>  <th>[0.025</th>    <th>0.975]</th>  \n",
       "</tr>\n",
       "<tr>\n",
       "  <th>const</th>                    <td>    1.6649</td> <td>    0.693</td> <td>    2.404</td> <td> 0.017</td> <td>    0.302</td> <td>    3.028</td>\n",
       "</tr>\n",
       "<tr>\n",
       "  <th>age</th>                      <td>    0.0058</td> <td>    0.002</td> <td>    3.101</td> <td> 0.002</td> <td>    0.002</td> <td>    0.009</td>\n",
       "</tr>\n",
       "<tr>\n",
       "  <th>creatinine_phosphokinase</th> <td> 3.464e-05</td> <td>  2.2e-05</td> <td>    1.577</td> <td> 0.116</td> <td>-8.59e-06</td> <td> 7.79e-05</td>\n",
       "</tr>\n",
       "<tr>\n",
       "  <th>diabetes</th>                 <td>    0.0198</td> <td>    0.044</td> <td>    0.452</td> <td> 0.651</td> <td>   -0.066</td> <td>    0.106</td>\n",
       "</tr>\n",
       "<tr>\n",
       "  <th>ejection_fraction</th>        <td>   -0.0098</td> <td>    0.002</td> <td>   -5.351</td> <td> 0.000</td> <td>   -0.013</td> <td>   -0.006</td>\n",
       "</tr>\n",
       "<tr>\n",
       "  <th>high_blood_pressure</th>      <td>   -0.0141</td> <td>    0.045</td> <td>   -0.311</td> <td> 0.756</td> <td>   -0.104</td> <td>    0.075</td>\n",
       "</tr>\n",
       "<tr>\n",
       "  <th>platelets</th>                <td>-8.555e-08</td> <td> 2.19e-07</td> <td>   -0.391</td> <td> 0.696</td> <td>-5.16e-07</td> <td> 3.45e-07</td>\n",
       "</tr>\n",
       "<tr>\n",
       "  <th>serum_creatinine</th>         <td>    0.0853</td> <td>    0.021</td> <td>    4.037</td> <td> 0.000</td> <td>    0.044</td> <td>    0.127</td>\n",
       "</tr>\n",
       "<tr>\n",
       "  <th>serum_sodium</th>             <td>   -0.0076</td> <td>    0.005</td> <td>   -1.527</td> <td> 0.128</td> <td>   -0.017</td> <td>    0.002</td>\n",
       "</tr>\n",
       "<tr>\n",
       "  <th>sex</th>                      <td>   -0.0659</td> <td>    0.046</td> <td>   -1.439</td> <td> 0.151</td> <td>   -0.156</td> <td>    0.024</td>\n",
       "</tr>\n",
       "<tr>\n",
       "  <th>time</th>                     <td>   -0.0027</td> <td>    0.000</td> <td>   -9.531</td> <td> 0.000</td> <td>   -0.003</td> <td>   -0.002</td>\n",
       "</tr>\n",
       "</table>\n",
       "<table class=\"simpletable\">\n",
       "<tr>\n",
       "  <th>Omnibus:</th>       <td>10.048</td> <th>  Durbin-Watson:     </th> <td>   1.577</td>\n",
       "</tr>\n",
       "<tr>\n",
       "  <th>Prob(Omnibus):</th> <td> 0.007</td> <th>  Jarque-Bera (JB):  </th> <td>   8.022</td>\n",
       "</tr>\n",
       "<tr>\n",
       "  <th>Skew:</th>          <td> 0.307</td> <th>  Prob(JB):          </th> <td>  0.0181</td>\n",
       "</tr>\n",
       "<tr>\n",
       "  <th>Kurtosis:</th>      <td> 2.484</td> <th>  Cond. No.          </th> <td>9.26e+06</td>\n",
       "</tr>\n",
       "</table><br/><br/>Notes:<br/>[1] Standard Errors assume that the covariance matrix of the errors is correctly specified.<br/>[2] The condition number is large, 9.26e+06. This might indicate that there are<br/>strong multicollinearity or other numerical problems."
      ],
      "text/plain": [
       "<class 'statsmodels.iolib.summary.Summary'>\n",
       "\"\"\"\n",
       "                            OLS Regression Results                            \n",
       "==============================================================================\n",
       "Dep. Variable:            DEATH_EVENT   R-squared:                       0.417\n",
       "Model:                            OLS   Adj. R-squared:                  0.397\n",
       "Method:                 Least Squares   F-statistic:                     20.58\n",
       "Date:                Tue, 02 Feb 2021   Prob (F-statistic):           1.14e-28\n",
       "Time:                        14:16:35   Log-Likelihood:                -115.91\n",
       "No. Observations:                 299   AIC:                             253.8\n",
       "Df Residuals:                     288   BIC:                             294.5\n",
       "Df Model:                          10                                         \n",
       "Covariance Type:            nonrobust                                         \n",
       "============================================================================================\n",
       "                               coef    std err          t      P>|t|      [0.025      0.975]\n",
       "--------------------------------------------------------------------------------------------\n",
       "const                        1.6649      0.693      2.404      0.017       0.302       3.028\n",
       "age                          0.0058      0.002      3.101      0.002       0.002       0.009\n",
       "creatinine_phosphokinase  3.464e-05    2.2e-05      1.577      0.116   -8.59e-06    7.79e-05\n",
       "diabetes                     0.0198      0.044      0.452      0.651      -0.066       0.106\n",
       "ejection_fraction           -0.0098      0.002     -5.351      0.000      -0.013      -0.006\n",
       "high_blood_pressure         -0.0141      0.045     -0.311      0.756      -0.104       0.075\n",
       "platelets                -8.555e-08   2.19e-07     -0.391      0.696   -5.16e-07    3.45e-07\n",
       "serum_creatinine             0.0853      0.021      4.037      0.000       0.044       0.127\n",
       "serum_sodium                -0.0076      0.005     -1.527      0.128      -0.017       0.002\n",
       "sex                         -0.0659      0.046     -1.439      0.151      -0.156       0.024\n",
       "time                        -0.0027      0.000     -9.531      0.000      -0.003      -0.002\n",
       "==============================================================================\n",
       "Omnibus:                       10.048   Durbin-Watson:                   1.577\n",
       "Prob(Omnibus):                  0.007   Jarque-Bera (JB):                8.022\n",
       "Skew:                           0.307   Prob(JB):                       0.0181\n",
       "Kurtosis:                       2.484   Cond. No.                     9.26e+06\n",
       "==============================================================================\n",
       "\n",
       "Notes:\n",
       "[1] Standard Errors assume that the covariance matrix of the errors is correctly specified.\n",
       "[2] The condition number is large, 9.26e+06. This might indicate that there are\n",
       "strong multicollinearity or other numerical problems.\n",
       "\"\"\""
      ]
     },
     "execution_count": 12,
     "metadata": {},
     "output_type": "execute_result"
    }
   ],
   "source": [
    "model.summary()"
   ]
  },
  {
   "cell_type": "markdown",
   "metadata": {},
   "source": [
    "#### Backwards Elimination Step 3 (repeat)\n",
    "\n",
    "Continue removing the predictor with the highest p-value until the the highest p-value is below 0.05. I'm not printing out every summary here to save space."
   ]
  },
  {
   "cell_type": "code",
   "execution_count": 13,
   "metadata": {},
   "outputs": [],
   "source": [
    "x = x.drop(labels='high_blood_pressure', axis='columns')\n",
    "model=sm.OLS(y, x).fit()"
   ]
  },
  {
   "cell_type": "code",
   "execution_count": 14,
   "metadata": {},
   "outputs": [
    {
     "data": {
      "text/html": [
       "<table class=\"simpletable\">\n",
       "<caption>OLS Regression Results</caption>\n",
       "<tr>\n",
       "  <th>Dep. Variable:</th>       <td>DEATH_EVENT</td>   <th>  R-squared:         </th> <td>   0.417</td>\n",
       "</tr>\n",
       "<tr>\n",
       "  <th>Model:</th>                   <td>OLS</td>       <th>  Adj. R-squared:    </th> <td>   0.398</td>\n",
       "</tr>\n",
       "<tr>\n",
       "  <th>Method:</th>             <td>Least Squares</td>  <th>  F-statistic:       </th> <td>   22.93</td>\n",
       "</tr>\n",
       "<tr>\n",
       "  <th>Date:</th>             <td>Tue, 02 Feb 2021</td> <th>  Prob (F-statistic):</th> <td>2.41e-29</td>\n",
       "</tr>\n",
       "<tr>\n",
       "  <th>Time:</th>                 <td>14:16:35</td>     <th>  Log-Likelihood:    </th> <td> -115.96</td>\n",
       "</tr>\n",
       "<tr>\n",
       "  <th>No. Observations:</th>      <td>   299</td>      <th>  AIC:               </th> <td>   251.9</td>\n",
       "</tr>\n",
       "<tr>\n",
       "  <th>Df Residuals:</th>          <td>   289</td>      <th>  BIC:               </th> <td>   288.9</td>\n",
       "</tr>\n",
       "<tr>\n",
       "  <th>Df Model:</th>              <td>     9</td>      <th>                     </th>     <td> </td>   \n",
       "</tr>\n",
       "<tr>\n",
       "  <th>Covariance Type:</th>      <td>nonrobust</td>    <th>                     </th>     <td> </td>   \n",
       "</tr>\n",
       "</table>\n",
       "<table class=\"simpletable\">\n",
       "<tr>\n",
       "              <td></td>                <th>coef</th>     <th>std err</th>      <th>t</th>      <th>P>|t|</th>  <th>[0.025</th>    <th>0.975]</th>  \n",
       "</tr>\n",
       "<tr>\n",
       "  <th>const</th>                    <td>    1.6688</td> <td>    0.691</td> <td>    2.414</td> <td> 0.016</td> <td>    0.308</td> <td>    3.030</td>\n",
       "</tr>\n",
       "<tr>\n",
       "  <th>age</th>                      <td>    0.0057</td> <td>    0.002</td> <td>    3.093</td> <td> 0.002</td> <td>    0.002</td> <td>    0.009</td>\n",
       "</tr>\n",
       "<tr>\n",
       "  <th>creatinine_phosphokinase</th> <td> 3.508e-05</td> <td> 2.19e-05</td> <td>    1.603</td> <td> 0.110</td> <td>-7.98e-06</td> <td> 7.82e-05</td>\n",
       "</tr>\n",
       "<tr>\n",
       "  <th>diabetes</th>                 <td>    0.0200</td> <td>    0.044</td> <td>    0.459</td> <td> 0.647</td> <td>   -0.066</td> <td>    0.106</td>\n",
       "</tr>\n",
       "<tr>\n",
       "  <th>ejection_fraction</th>        <td>   -0.0098</td> <td>    0.002</td> <td>   -5.359</td> <td> 0.000</td> <td>   -0.013</td> <td>   -0.006</td>\n",
       "</tr>\n",
       "<tr>\n",
       "  <th>platelets</th>                <td> -8.84e-08</td> <td> 2.18e-07</td> <td>   -0.405</td> <td> 0.686</td> <td>-5.18e-07</td> <td> 3.41e-07</td>\n",
       "</tr>\n",
       "<tr>\n",
       "  <th>serum_creatinine</th>         <td>    0.0855</td> <td>    0.021</td> <td>    4.056</td> <td> 0.000</td> <td>    0.044</td> <td>    0.127</td>\n",
       "</tr>\n",
       "<tr>\n",
       "  <th>serum_sodium</th>             <td>   -0.0077</td> <td>    0.005</td> <td>   -1.546</td> <td> 0.123</td> <td>   -0.017</td> <td>    0.002</td>\n",
       "</tr>\n",
       "<tr>\n",
       "  <th>sex</th>                      <td>   -0.0645</td> <td>    0.045</td> <td>   -1.417</td> <td> 0.158</td> <td>   -0.154</td> <td>    0.025</td>\n",
       "</tr>\n",
       "<tr>\n",
       "  <th>time</th>                     <td>   -0.0027</td> <td>    0.000</td> <td>   -9.663</td> <td> 0.000</td> <td>   -0.003</td> <td>   -0.002</td>\n",
       "</tr>\n",
       "</table>\n",
       "<table class=\"simpletable\">\n",
       "<tr>\n",
       "  <th>Omnibus:</th>       <td>10.021</td> <th>  Durbin-Watson:     </th> <td>   1.574</td>\n",
       "</tr>\n",
       "<tr>\n",
       "  <th>Prob(Omnibus):</th> <td> 0.007</td> <th>  Jarque-Bera (JB):  </th> <td>   8.094</td>\n",
       "</tr>\n",
       "<tr>\n",
       "  <th>Skew:</th>          <td> 0.312</td> <th>  Prob(JB):          </th> <td>  0.0175</td>\n",
       "</tr>\n",
       "<tr>\n",
       "  <th>Kurtosis:</th>      <td> 2.490</td> <th>  Cond. No.          </th> <td>9.26e+06</td>\n",
       "</tr>\n",
       "</table><br/><br/>Notes:<br/>[1] Standard Errors assume that the covariance matrix of the errors is correctly specified.<br/>[2] The condition number is large, 9.26e+06. This might indicate that there are<br/>strong multicollinearity or other numerical problems."
      ],
      "text/plain": [
       "<class 'statsmodels.iolib.summary.Summary'>\n",
       "\"\"\"\n",
       "                            OLS Regression Results                            \n",
       "==============================================================================\n",
       "Dep. Variable:            DEATH_EVENT   R-squared:                       0.417\n",
       "Model:                            OLS   Adj. R-squared:                  0.398\n",
       "Method:                 Least Squares   F-statistic:                     22.93\n",
       "Date:                Tue, 02 Feb 2021   Prob (F-statistic):           2.41e-29\n",
       "Time:                        14:16:35   Log-Likelihood:                -115.96\n",
       "No. Observations:                 299   AIC:                             251.9\n",
       "Df Residuals:                     289   BIC:                             288.9\n",
       "Df Model:                           9                                         \n",
       "Covariance Type:            nonrobust                                         \n",
       "============================================================================================\n",
       "                               coef    std err          t      P>|t|      [0.025      0.975]\n",
       "--------------------------------------------------------------------------------------------\n",
       "const                        1.6688      0.691      2.414      0.016       0.308       3.030\n",
       "age                          0.0057      0.002      3.093      0.002       0.002       0.009\n",
       "creatinine_phosphokinase  3.508e-05   2.19e-05      1.603      0.110   -7.98e-06    7.82e-05\n",
       "diabetes                     0.0200      0.044      0.459      0.647      -0.066       0.106\n",
       "ejection_fraction           -0.0098      0.002     -5.359      0.000      -0.013      -0.006\n",
       "platelets                 -8.84e-08   2.18e-07     -0.405      0.686   -5.18e-07    3.41e-07\n",
       "serum_creatinine             0.0855      0.021      4.056      0.000       0.044       0.127\n",
       "serum_sodium                -0.0077      0.005     -1.546      0.123      -0.017       0.002\n",
       "sex                         -0.0645      0.045     -1.417      0.158      -0.154       0.025\n",
       "time                        -0.0027      0.000     -9.663      0.000      -0.003      -0.002\n",
       "==============================================================================\n",
       "Omnibus:                       10.021   Durbin-Watson:                   1.574\n",
       "Prob(Omnibus):                  0.007   Jarque-Bera (JB):                8.094\n",
       "Skew:                           0.312   Prob(JB):                       0.0175\n",
       "Kurtosis:                       2.490   Cond. No.                     9.26e+06\n",
       "==============================================================================\n",
       "\n",
       "Notes:\n",
       "[1] Standard Errors assume that the covariance matrix of the errors is correctly specified.\n",
       "[2] The condition number is large, 9.26e+06. This might indicate that there are\n",
       "strong multicollinearity or other numerical problems.\n",
       "\"\"\""
      ]
     },
     "execution_count": 14,
     "metadata": {},
     "output_type": "execute_result"
    }
   ],
   "source": [
    "model.summary()"
   ]
  },
  {
   "cell_type": "code",
   "execution_count": 15,
   "metadata": {},
   "outputs": [],
   "source": [
    "x = x.drop(labels='platelets', axis='columns')\n",
    "model=sm.OLS(y, x).fit()"
   ]
  },
  {
   "cell_type": "code",
   "execution_count": 16,
   "metadata": {},
   "outputs": [
    {
     "data": {
      "text/html": [
       "<table class=\"simpletable\">\n",
       "<caption>OLS Regression Results</caption>\n",
       "<tr>\n",
       "  <th>Dep. Variable:</th>       <td>DEATH_EVENT</td>   <th>  R-squared:         </th> <td>   0.416</td>\n",
       "</tr>\n",
       "<tr>\n",
       "  <th>Model:</th>                   <td>OLS</td>       <th>  Adj. R-squared:    </th> <td>   0.400</td>\n",
       "</tr>\n",
       "<tr>\n",
       "  <th>Method:</th>             <td>Least Squares</td>  <th>  F-statistic:       </th> <td>   25.85</td>\n",
       "</tr>\n",
       "<tr>\n",
       "  <th>Date:</th>             <td>Tue, 02 Feb 2021</td> <th>  Prob (F-statistic):</th> <td>4.95e-30</td>\n",
       "</tr>\n",
       "<tr>\n",
       "  <th>Time:</th>                 <td>14:16:35</td>     <th>  Log-Likelihood:    </th> <td> -116.04</td>\n",
       "</tr>\n",
       "<tr>\n",
       "  <th>No. Observations:</th>      <td>   299</td>      <th>  AIC:               </th> <td>   250.1</td>\n",
       "</tr>\n",
       "<tr>\n",
       "  <th>Df Residuals:</th>          <td>   290</td>      <th>  BIC:               </th> <td>   283.4</td>\n",
       "</tr>\n",
       "<tr>\n",
       "  <th>Df Model:</th>              <td>     8</td>      <th>                     </th>     <td> </td>   \n",
       "</tr>\n",
       "<tr>\n",
       "  <th>Covariance Type:</th>      <td>nonrobust</td>    <th>                     </th>     <td> </td>   \n",
       "</tr>\n",
       "</table>\n",
       "<table class=\"simpletable\">\n",
       "<tr>\n",
       "              <td></td>                <th>coef</th>     <th>std err</th>      <th>t</th>      <th>P>|t|</th>  <th>[0.025</th>    <th>0.975]</th>  \n",
       "</tr>\n",
       "<tr>\n",
       "  <th>const</th>                    <td>    1.6580</td> <td>    0.690</td> <td>    2.403</td> <td> 0.017</td> <td>    0.300</td> <td>    3.016</td>\n",
       "</tr>\n",
       "<tr>\n",
       "  <th>age</th>                      <td>    0.0058</td> <td>    0.002</td> <td>    3.114</td> <td> 0.002</td> <td>    0.002</td> <td>    0.009</td>\n",
       "</tr>\n",
       "<tr>\n",
       "  <th>creatinine_phosphokinase</th> <td> 3.482e-05</td> <td> 2.18e-05</td> <td>    1.594</td> <td> 0.112</td> <td>-8.16e-06</td> <td> 7.78e-05</td>\n",
       "</tr>\n",
       "<tr>\n",
       "  <th>diabetes</th>                 <td>    0.0187</td> <td>    0.043</td> <td>    0.430</td> <td> 0.668</td> <td>   -0.067</td> <td>    0.104</td>\n",
       "</tr>\n",
       "<tr>\n",
       "  <th>ejection_fraction</th>        <td>   -0.0099</td> <td>    0.002</td> <td>   -5.395</td> <td> 0.000</td> <td>   -0.013</td> <td>   -0.006</td>\n",
       "</tr>\n",
       "<tr>\n",
       "  <th>serum_creatinine</th>         <td>    0.0857</td> <td>    0.021</td> <td>    4.072</td> <td> 0.000</td> <td>    0.044</td> <td>    0.127</td>\n",
       "</tr>\n",
       "<tr>\n",
       "  <th>serum_sodium</th>             <td>   -0.0078</td> <td>    0.005</td> <td>   -1.569</td> <td> 0.118</td> <td>   -0.018</td> <td>    0.002</td>\n",
       "</tr>\n",
       "<tr>\n",
       "  <th>sex</th>                      <td>   -0.0626</td> <td>    0.045</td> <td>   -1.385</td> <td> 0.167</td> <td>   -0.152</td> <td>    0.026</td>\n",
       "</tr>\n",
       "<tr>\n",
       "  <th>time</th>                     <td>   -0.0027</td> <td>    0.000</td> <td>   -9.673</td> <td> 0.000</td> <td>   -0.003</td> <td>   -0.002</td>\n",
       "</tr>\n",
       "</table>\n",
       "<table class=\"simpletable\">\n",
       "<tr>\n",
       "  <th>Omnibus:</th>       <td> 9.741</td> <th>  Durbin-Watson:     </th> <td>   1.577</td>\n",
       "</tr>\n",
       "<tr>\n",
       "  <th>Prob(Omnibus):</th> <td> 0.008</td> <th>  Jarque-Bera (JB):  </th> <td>   7.988</td>\n",
       "</tr>\n",
       "<tr>\n",
       "  <th>Skew:</th>          <td> 0.313</td> <th>  Prob(JB):          </th> <td>  0.0184</td>\n",
       "</tr>\n",
       "<tr>\n",
       "  <th>Kurtosis:</th>      <td> 2.500</td> <th>  Cond. No.          </th> <td>3.74e+04</td>\n",
       "</tr>\n",
       "</table><br/><br/>Notes:<br/>[1] Standard Errors assume that the covariance matrix of the errors is correctly specified.<br/>[2] The condition number is large, 3.74e+04. This might indicate that there are<br/>strong multicollinearity or other numerical problems."
      ],
      "text/plain": [
       "<class 'statsmodels.iolib.summary.Summary'>\n",
       "\"\"\"\n",
       "                            OLS Regression Results                            \n",
       "==============================================================================\n",
       "Dep. Variable:            DEATH_EVENT   R-squared:                       0.416\n",
       "Model:                            OLS   Adj. R-squared:                  0.400\n",
       "Method:                 Least Squares   F-statistic:                     25.85\n",
       "Date:                Tue, 02 Feb 2021   Prob (F-statistic):           4.95e-30\n",
       "Time:                        14:16:35   Log-Likelihood:                -116.04\n",
       "No. Observations:                 299   AIC:                             250.1\n",
       "Df Residuals:                     290   BIC:                             283.4\n",
       "Df Model:                           8                                         \n",
       "Covariance Type:            nonrobust                                         \n",
       "============================================================================================\n",
       "                               coef    std err          t      P>|t|      [0.025      0.975]\n",
       "--------------------------------------------------------------------------------------------\n",
       "const                        1.6580      0.690      2.403      0.017       0.300       3.016\n",
       "age                          0.0058      0.002      3.114      0.002       0.002       0.009\n",
       "creatinine_phosphokinase  3.482e-05   2.18e-05      1.594      0.112   -8.16e-06    7.78e-05\n",
       "diabetes                     0.0187      0.043      0.430      0.668      -0.067       0.104\n",
       "ejection_fraction           -0.0099      0.002     -5.395      0.000      -0.013      -0.006\n",
       "serum_creatinine             0.0857      0.021      4.072      0.000       0.044       0.127\n",
       "serum_sodium                -0.0078      0.005     -1.569      0.118      -0.018       0.002\n",
       "sex                         -0.0626      0.045     -1.385      0.167      -0.152       0.026\n",
       "time                        -0.0027      0.000     -9.673      0.000      -0.003      -0.002\n",
       "==============================================================================\n",
       "Omnibus:                        9.741   Durbin-Watson:                   1.577\n",
       "Prob(Omnibus):                  0.008   Jarque-Bera (JB):                7.988\n",
       "Skew:                           0.313   Prob(JB):                       0.0184\n",
       "Kurtosis:                       2.500   Cond. No.                     3.74e+04\n",
       "==============================================================================\n",
       "\n",
       "Notes:\n",
       "[1] Standard Errors assume that the covariance matrix of the errors is correctly specified.\n",
       "[2] The condition number is large, 3.74e+04. This might indicate that there are\n",
       "strong multicollinearity or other numerical problems.\n",
       "\"\"\""
      ]
     },
     "execution_count": 16,
     "metadata": {},
     "output_type": "execute_result"
    }
   ],
   "source": [
    "model.summary()"
   ]
  },
  {
   "cell_type": "code",
   "execution_count": 17,
   "metadata": {},
   "outputs": [],
   "source": [
    "x = x.drop(labels='diabetes', axis='columns')\n",
    "model=sm.OLS(y, x).fit()"
   ]
  },
  {
   "cell_type": "code",
   "execution_count": 18,
   "metadata": {},
   "outputs": [
    {
     "data": {
      "text/html": [
       "<table class=\"simpletable\">\n",
       "<caption>OLS Regression Results</caption>\n",
       "<tr>\n",
       "  <th>Dep. Variable:</th>       <td>DEATH_EVENT</td>   <th>  R-squared:         </th> <td>   0.416</td>\n",
       "</tr>\n",
       "<tr>\n",
       "  <th>Model:</th>                   <td>OLS</td>       <th>  Adj. R-squared:    </th> <td>   0.402</td>\n",
       "</tr>\n",
       "<tr>\n",
       "  <th>Method:</th>             <td>Least Squares</td>  <th>  F-statistic:       </th> <td>   29.60</td>\n",
       "</tr>\n",
       "<tr>\n",
       "  <th>Date:</th>             <td>Tue, 02 Feb 2021</td> <th>  Prob (F-statistic):</th> <td>9.54e-31</td>\n",
       "</tr>\n",
       "<tr>\n",
       "  <th>Time:</th>                 <td>14:16:35</td>     <th>  Log-Likelihood:    </th> <td> -116.14</td>\n",
       "</tr>\n",
       "<tr>\n",
       "  <th>No. Observations:</th>      <td>   299</td>      <th>  AIC:               </th> <td>   248.3</td>\n",
       "</tr>\n",
       "<tr>\n",
       "  <th>Df Residuals:</th>          <td>   291</td>      <th>  BIC:               </th> <td>   277.9</td>\n",
       "</tr>\n",
       "<tr>\n",
       "  <th>Df Model:</th>              <td>     7</td>      <th>                     </th>     <td> </td>   \n",
       "</tr>\n",
       "<tr>\n",
       "  <th>Covariance Type:</th>      <td>nonrobust</td>    <th>                     </th>     <td> </td>   \n",
       "</tr>\n",
       "</table>\n",
       "<table class=\"simpletable\">\n",
       "<tr>\n",
       "              <td></td>                <th>coef</th>     <th>std err</th>      <th>t</th>      <th>P>|t|</th>  <th>[0.025</th>    <th>0.975]</th>  \n",
       "</tr>\n",
       "<tr>\n",
       "  <th>const</th>                    <td>    1.7031</td> <td>    0.681</td> <td>    2.501</td> <td> 0.013</td> <td>    0.363</td> <td>    3.043</td>\n",
       "</tr>\n",
       "<tr>\n",
       "  <th>age</th>                      <td>    0.0057</td> <td>    0.002</td> <td>    3.093</td> <td> 0.002</td> <td>    0.002</td> <td>    0.009</td>\n",
       "</tr>\n",
       "<tr>\n",
       "  <th>creatinine_phosphokinase</th> <td> 3.484e-05</td> <td> 2.18e-05</td> <td>    1.597</td> <td> 0.111</td> <td>-8.09e-06</td> <td> 7.78e-05</td>\n",
       "</tr>\n",
       "<tr>\n",
       "  <th>ejection_fraction</th>        <td>   -0.0099</td> <td>    0.002</td> <td>   -5.405</td> <td> 0.000</td> <td>   -0.013</td> <td>   -0.006</td>\n",
       "</tr>\n",
       "<tr>\n",
       "  <th>serum_creatinine</th>         <td>    0.0853</td> <td>    0.021</td> <td>    4.061</td> <td> 0.000</td> <td>    0.044</td> <td>    0.127</td>\n",
       "</tr>\n",
       "<tr>\n",
       "  <th>serum_sodium</th>             <td>   -0.0080</td> <td>    0.005</td> <td>   -1.626</td> <td> 0.105</td> <td>   -0.018</td> <td>    0.002</td>\n",
       "</tr>\n",
       "<tr>\n",
       "  <th>sex</th>                      <td>   -0.0656</td> <td>    0.045</td> <td>   -1.471</td> <td> 0.142</td> <td>   -0.153</td> <td>    0.022</td>\n",
       "</tr>\n",
       "<tr>\n",
       "  <th>time</th>                     <td>   -0.0027</td> <td>    0.000</td> <td>   -9.682</td> <td> 0.000</td> <td>   -0.003</td> <td>   -0.002</td>\n",
       "</tr>\n",
       "</table>\n",
       "<table class=\"simpletable\">\n",
       "<tr>\n",
       "  <th>Omnibus:</th>       <td>10.073</td> <th>  Durbin-Watson:     </th> <td>   1.571</td>\n",
       "</tr>\n",
       "<tr>\n",
       "  <th>Prob(Omnibus):</th> <td> 0.006</td> <th>  Jarque-Bera (JB):  </th> <td>   8.151</td>\n",
       "</tr>\n",
       "<tr>\n",
       "  <th>Skew:</th>          <td> 0.314</td> <th>  Prob(JB):          </th> <td>  0.0170</td>\n",
       "</tr>\n",
       "<tr>\n",
       "  <th>Kurtosis:</th>      <td> 2.490</td> <th>  Cond. No.          </th> <td>3.69e+04</td>\n",
       "</tr>\n",
       "</table><br/><br/>Notes:<br/>[1] Standard Errors assume that the covariance matrix of the errors is correctly specified.<br/>[2] The condition number is large, 3.69e+04. This might indicate that there are<br/>strong multicollinearity or other numerical problems."
      ],
      "text/plain": [
       "<class 'statsmodels.iolib.summary.Summary'>\n",
       "\"\"\"\n",
       "                            OLS Regression Results                            \n",
       "==============================================================================\n",
       "Dep. Variable:            DEATH_EVENT   R-squared:                       0.416\n",
       "Model:                            OLS   Adj. R-squared:                  0.402\n",
       "Method:                 Least Squares   F-statistic:                     29.60\n",
       "Date:                Tue, 02 Feb 2021   Prob (F-statistic):           9.54e-31\n",
       "Time:                        14:16:35   Log-Likelihood:                -116.14\n",
       "No. Observations:                 299   AIC:                             248.3\n",
       "Df Residuals:                     291   BIC:                             277.9\n",
       "Df Model:                           7                                         \n",
       "Covariance Type:            nonrobust                                         \n",
       "============================================================================================\n",
       "                               coef    std err          t      P>|t|      [0.025      0.975]\n",
       "--------------------------------------------------------------------------------------------\n",
       "const                        1.7031      0.681      2.501      0.013       0.363       3.043\n",
       "age                          0.0057      0.002      3.093      0.002       0.002       0.009\n",
       "creatinine_phosphokinase  3.484e-05   2.18e-05      1.597      0.111   -8.09e-06    7.78e-05\n",
       "ejection_fraction           -0.0099      0.002     -5.405      0.000      -0.013      -0.006\n",
       "serum_creatinine             0.0853      0.021      4.061      0.000       0.044       0.127\n",
       "serum_sodium                -0.0080      0.005     -1.626      0.105      -0.018       0.002\n",
       "sex                         -0.0656      0.045     -1.471      0.142      -0.153       0.022\n",
       "time                        -0.0027      0.000     -9.682      0.000      -0.003      -0.002\n",
       "==============================================================================\n",
       "Omnibus:                       10.073   Durbin-Watson:                   1.571\n",
       "Prob(Omnibus):                  0.006   Jarque-Bera (JB):                8.151\n",
       "Skew:                           0.314   Prob(JB):                       0.0170\n",
       "Kurtosis:                       2.490   Cond. No.                     3.69e+04\n",
       "==============================================================================\n",
       "\n",
       "Notes:\n",
       "[1] Standard Errors assume that the covariance matrix of the errors is correctly specified.\n",
       "[2] The condition number is large, 3.69e+04. This might indicate that there are\n",
       "strong multicollinearity or other numerical problems.\n",
       "\"\"\""
      ]
     },
     "execution_count": 18,
     "metadata": {},
     "output_type": "execute_result"
    }
   ],
   "source": [
    "model.summary()"
   ]
  },
  {
   "cell_type": "code",
   "execution_count": 19,
   "metadata": {},
   "outputs": [],
   "source": [
    "x = x.drop(labels='sex', axis='columns')\n",
    "model=sm.OLS(y, x).fit()"
   ]
  },
  {
   "cell_type": "code",
   "execution_count": 20,
   "metadata": {},
   "outputs": [
    {
     "data": {
      "text/html": [
       "<table class=\"simpletable\">\n",
       "<caption>OLS Regression Results</caption>\n",
       "<tr>\n",
       "  <th>Dep. Variable:</th>       <td>DEATH_EVENT</td>   <th>  R-squared:         </th> <td>   0.412</td>\n",
       "</tr>\n",
       "<tr>\n",
       "  <th>Model:</th>                   <td>OLS</td>       <th>  Adj. R-squared:    </th> <td>   0.399</td>\n",
       "</tr>\n",
       "<tr>\n",
       "  <th>Method:</th>             <td>Least Squares</td>  <th>  F-statistic:       </th> <td>   34.04</td>\n",
       "</tr>\n",
       "<tr>\n",
       "  <th>Date:</th>             <td>Tue, 02 Feb 2021</td> <th>  Prob (F-statistic):</th> <td>4.47e-31</td>\n",
       "</tr>\n",
       "<tr>\n",
       "  <th>Time:</th>                 <td>14:16:35</td>     <th>  Log-Likelihood:    </th> <td> -117.25</td>\n",
       "</tr>\n",
       "<tr>\n",
       "  <th>No. Observations:</th>      <td>   299</td>      <th>  AIC:               </th> <td>   248.5</td>\n",
       "</tr>\n",
       "<tr>\n",
       "  <th>Df Residuals:</th>          <td>   292</td>      <th>  BIC:               </th> <td>   274.4</td>\n",
       "</tr>\n",
       "<tr>\n",
       "  <th>Df Model:</th>              <td>     6</td>      <th>                     </th>     <td> </td>   \n",
       "</tr>\n",
       "<tr>\n",
       "  <th>Covariance Type:</th>      <td>nonrobust</td>    <th>                     </th>     <td> </td>   \n",
       "</tr>\n",
       "</table>\n",
       "<table class=\"simpletable\">\n",
       "<tr>\n",
       "              <td></td>                <th>coef</th>     <th>std err</th>      <th>t</th>      <th>P>|t|</th>  <th>[0.025</th>    <th>0.975]</th>  \n",
       "</tr>\n",
       "<tr>\n",
       "  <th>const</th>                    <td>    1.6566</td> <td>    0.682</td> <td>    2.431</td> <td> 0.016</td> <td>    0.315</td> <td>    2.998</td>\n",
       "</tr>\n",
       "<tr>\n",
       "  <th>age</th>                      <td>    0.0055</td> <td>    0.002</td> <td>    2.977</td> <td> 0.003</td> <td>    0.002</td> <td>    0.009</td>\n",
       "</tr>\n",
       "<tr>\n",
       "  <th>creatinine_phosphokinase</th> <td> 3.224e-05</td> <td> 2.18e-05</td> <td>    1.480</td> <td> 0.140</td> <td>-1.06e-05</td> <td> 7.51e-05</td>\n",
       "</tr>\n",
       "<tr>\n",
       "  <th>ejection_fraction</th>        <td>   -0.0095</td> <td>    0.002</td> <td>   -5.234</td> <td> 0.000</td> <td>   -0.013</td> <td>   -0.006</td>\n",
       "</tr>\n",
       "<tr>\n",
       "  <th>serum_creatinine</th>         <td>    0.0854</td> <td>    0.021</td> <td>    4.062</td> <td> 0.000</td> <td>    0.044</td> <td>    0.127</td>\n",
       "</tr>\n",
       "<tr>\n",
       "  <th>serum_sodium</th>             <td>   -0.0080</td> <td>    0.005</td> <td>   -1.617</td> <td> 0.107</td> <td>   -0.018</td> <td>    0.002</td>\n",
       "</tr>\n",
       "<tr>\n",
       "  <th>time</th>                     <td>   -0.0027</td> <td>    0.000</td> <td>   -9.677</td> <td> 0.000</td> <td>   -0.003</td> <td>   -0.002</td>\n",
       "</tr>\n",
       "</table>\n",
       "<table class=\"simpletable\">\n",
       "<tr>\n",
       "  <th>Omnibus:</th>       <td>10.347</td> <th>  Durbin-Watson:     </th> <td>   1.590</td>\n",
       "</tr>\n",
       "<tr>\n",
       "  <th>Prob(Omnibus):</th> <td> 0.006</td> <th>  Jarque-Bera (JB):  </th> <td>   8.484</td>\n",
       "</tr>\n",
       "<tr>\n",
       "  <th>Skew:</th>          <td> 0.325</td> <th>  Prob(JB):          </th> <td>  0.0144</td>\n",
       "</tr>\n",
       "<tr>\n",
       "  <th>Kurtosis:</th>      <td> 2.492</td> <th>  Cond. No.          </th> <td>3.69e+04</td>\n",
       "</tr>\n",
       "</table><br/><br/>Notes:<br/>[1] Standard Errors assume that the covariance matrix of the errors is correctly specified.<br/>[2] The condition number is large, 3.69e+04. This might indicate that there are<br/>strong multicollinearity or other numerical problems."
      ],
      "text/plain": [
       "<class 'statsmodels.iolib.summary.Summary'>\n",
       "\"\"\"\n",
       "                            OLS Regression Results                            \n",
       "==============================================================================\n",
       "Dep. Variable:            DEATH_EVENT   R-squared:                       0.412\n",
       "Model:                            OLS   Adj. R-squared:                  0.399\n",
       "Method:                 Least Squares   F-statistic:                     34.04\n",
       "Date:                Tue, 02 Feb 2021   Prob (F-statistic):           4.47e-31\n",
       "Time:                        14:16:35   Log-Likelihood:                -117.25\n",
       "No. Observations:                 299   AIC:                             248.5\n",
       "Df Residuals:                     292   BIC:                             274.4\n",
       "Df Model:                           6                                         \n",
       "Covariance Type:            nonrobust                                         \n",
       "============================================================================================\n",
       "                               coef    std err          t      P>|t|      [0.025      0.975]\n",
       "--------------------------------------------------------------------------------------------\n",
       "const                        1.6566      0.682      2.431      0.016       0.315       2.998\n",
       "age                          0.0055      0.002      2.977      0.003       0.002       0.009\n",
       "creatinine_phosphokinase  3.224e-05   2.18e-05      1.480      0.140   -1.06e-05    7.51e-05\n",
       "ejection_fraction           -0.0095      0.002     -5.234      0.000      -0.013      -0.006\n",
       "serum_creatinine             0.0854      0.021      4.062      0.000       0.044       0.127\n",
       "serum_sodium                -0.0080      0.005     -1.617      0.107      -0.018       0.002\n",
       "time                        -0.0027      0.000     -9.677      0.000      -0.003      -0.002\n",
       "==============================================================================\n",
       "Omnibus:                       10.347   Durbin-Watson:                   1.590\n",
       "Prob(Omnibus):                  0.006   Jarque-Bera (JB):                8.484\n",
       "Skew:                           0.325   Prob(JB):                       0.0144\n",
       "Kurtosis:                       2.492   Cond. No.                     3.69e+04\n",
       "==============================================================================\n",
       "\n",
       "Notes:\n",
       "[1] Standard Errors assume that the covariance matrix of the errors is correctly specified.\n",
       "[2] The condition number is large, 3.69e+04. This might indicate that there are\n",
       "strong multicollinearity or other numerical problems.\n",
       "\"\"\""
      ]
     },
     "execution_count": 20,
     "metadata": {},
     "output_type": "execute_result"
    }
   ],
   "source": [
    "model.summary()"
   ]
  },
  {
   "cell_type": "code",
   "execution_count": 21,
   "metadata": {},
   "outputs": [],
   "source": [
    "x = x.drop(labels='creatinine_phosphokinase', axis='columns')\n",
    "model=sm.OLS(y, x).fit()"
   ]
  },
  {
   "cell_type": "code",
   "execution_count": 22,
   "metadata": {},
   "outputs": [
    {
     "data": {
      "text/html": [
       "<table class=\"simpletable\">\n",
       "<caption>OLS Regression Results</caption>\n",
       "<tr>\n",
       "  <th>Dep. Variable:</th>       <td>DEATH_EVENT</td>   <th>  R-squared:         </th> <td>   0.407</td>\n",
       "</tr>\n",
       "<tr>\n",
       "  <th>Model:</th>                   <td>OLS</td>       <th>  Adj. R-squared:    </th> <td>   0.397</td>\n",
       "</tr>\n",
       "<tr>\n",
       "  <th>Method:</th>             <td>Least Squares</td>  <th>  F-statistic:       </th> <td>   40.24</td>\n",
       "</tr>\n",
       "<tr>\n",
       "  <th>Date:</th>             <td>Tue, 02 Feb 2021</td> <th>  Prob (F-statistic):</th> <td>1.94e-31</td>\n",
       "</tr>\n",
       "<tr>\n",
       "  <th>Time:</th>                 <td>14:16:35</td>     <th>  Log-Likelihood:    </th> <td> -118.36</td>\n",
       "</tr>\n",
       "<tr>\n",
       "  <th>No. Observations:</th>      <td>   299</td>      <th>  AIC:               </th> <td>   248.7</td>\n",
       "</tr>\n",
       "<tr>\n",
       "  <th>Df Residuals:</th>          <td>   293</td>      <th>  BIC:               </th> <td>   270.9</td>\n",
       "</tr>\n",
       "<tr>\n",
       "  <th>Df Model:</th>              <td>     5</td>      <th>                     </th>     <td> </td>   \n",
       "</tr>\n",
       "<tr>\n",
       "  <th>Covariance Type:</th>      <td>nonrobust</td>    <th>                     </th>     <td> </td>   \n",
       "</tr>\n",
       "</table>\n",
       "<table class=\"simpletable\">\n",
       "<tr>\n",
       "          <td></td>             <th>coef</th>     <th>std err</th>      <th>t</th>      <th>P>|t|</th>  <th>[0.025</th>    <th>0.975]</th>  \n",
       "</tr>\n",
       "<tr>\n",
       "  <th>const</th>             <td>    1.6292</td> <td>    0.683</td> <td>    2.387</td> <td> 0.018</td> <td>    0.286</td> <td>    2.973</td>\n",
       "</tr>\n",
       "<tr>\n",
       "  <th>age</th>               <td>    0.0053</td> <td>    0.002</td> <td>    2.861</td> <td> 0.005</td> <td>    0.002</td> <td>    0.009</td>\n",
       "</tr>\n",
       "<tr>\n",
       "  <th>ejection_fraction</th> <td>   -0.0096</td> <td>    0.002</td> <td>   -5.303</td> <td> 0.000</td> <td>   -0.013</td> <td>   -0.006</td>\n",
       "</tr>\n",
       "<tr>\n",
       "  <th>serum_creatinine</th>  <td>    0.0856</td> <td>    0.021</td> <td>    4.060</td> <td> 0.000</td> <td>    0.044</td> <td>    0.127</td>\n",
       "</tr>\n",
       "<tr>\n",
       "  <th>serum_sodium</th>      <td>   -0.0075</td> <td>    0.005</td> <td>   -1.520</td> <td> 0.130</td> <td>   -0.017</td> <td>    0.002</td>\n",
       "</tr>\n",
       "<tr>\n",
       "  <th>time</th>              <td>   -0.0027</td> <td>    0.000</td> <td>   -9.706</td> <td> 0.000</td> <td>   -0.003</td> <td>   -0.002</td>\n",
       "</tr>\n",
       "</table>\n",
       "<table class=\"simpletable\">\n",
       "<tr>\n",
       "  <th>Omnibus:</th>       <td>11.385</td> <th>  Durbin-Watson:     </th> <td>   1.596</td>\n",
       "</tr>\n",
       "<tr>\n",
       "  <th>Prob(Omnibus):</th> <td> 0.003</td> <th>  Jarque-Bera (JB):  </th> <td>   9.205</td>\n",
       "</tr>\n",
       "<tr>\n",
       "  <th>Skew:</th>          <td> 0.340</td> <th>  Prob(JB):          </th> <td>  0.0100</td>\n",
       "</tr>\n",
       "<tr>\n",
       "  <th>Kurtosis:</th>      <td> 2.473</td> <th>  Cond. No.          </th> <td>6.78e+03</td>\n",
       "</tr>\n",
       "</table><br/><br/>Notes:<br/>[1] Standard Errors assume that the covariance matrix of the errors is correctly specified.<br/>[2] The condition number is large, 6.78e+03. This might indicate that there are<br/>strong multicollinearity or other numerical problems."
      ],
      "text/plain": [
       "<class 'statsmodels.iolib.summary.Summary'>\n",
       "\"\"\"\n",
       "                            OLS Regression Results                            \n",
       "==============================================================================\n",
       "Dep. Variable:            DEATH_EVENT   R-squared:                       0.407\n",
       "Model:                            OLS   Adj. R-squared:                  0.397\n",
       "Method:                 Least Squares   F-statistic:                     40.24\n",
       "Date:                Tue, 02 Feb 2021   Prob (F-statistic):           1.94e-31\n",
       "Time:                        14:16:35   Log-Likelihood:                -118.36\n",
       "No. Observations:                 299   AIC:                             248.7\n",
       "Df Residuals:                     293   BIC:                             270.9\n",
       "Df Model:                           5                                         \n",
       "Covariance Type:            nonrobust                                         \n",
       "=====================================================================================\n",
       "                        coef    std err          t      P>|t|      [0.025      0.975]\n",
       "-------------------------------------------------------------------------------------\n",
       "const                 1.6292      0.683      2.387      0.018       0.286       2.973\n",
       "age                   0.0053      0.002      2.861      0.005       0.002       0.009\n",
       "ejection_fraction    -0.0096      0.002     -5.303      0.000      -0.013      -0.006\n",
       "serum_creatinine      0.0856      0.021      4.060      0.000       0.044       0.127\n",
       "serum_sodium         -0.0075      0.005     -1.520      0.130      -0.017       0.002\n",
       "time                 -0.0027      0.000     -9.706      0.000      -0.003      -0.002\n",
       "==============================================================================\n",
       "Omnibus:                       11.385   Durbin-Watson:                   1.596\n",
       "Prob(Omnibus):                  0.003   Jarque-Bera (JB):                9.205\n",
       "Skew:                           0.340   Prob(JB):                       0.0100\n",
       "Kurtosis:                       2.473   Cond. No.                     6.78e+03\n",
       "==============================================================================\n",
       "\n",
       "Notes:\n",
       "[1] Standard Errors assume that the covariance matrix of the errors is correctly specified.\n",
       "[2] The condition number is large, 6.78e+03. This might indicate that there are\n",
       "strong multicollinearity or other numerical problems.\n",
       "\"\"\""
      ]
     },
     "execution_count": 22,
     "metadata": {},
     "output_type": "execute_result"
    }
   ],
   "source": [
    "model.summary()"
   ]
  },
  {
   "cell_type": "code",
   "execution_count": 23,
   "metadata": {},
   "outputs": [],
   "source": [
    "x = x.drop(labels='serum_sodium', axis='columns')\n",
    "model=sm.OLS(y, x).fit()"
   ]
  },
  {
   "cell_type": "code",
   "execution_count": 24,
   "metadata": {},
   "outputs": [
    {
     "data": {
      "text/html": [
       "<table class=\"simpletable\">\n",
       "<caption>OLS Regression Results</caption>\n",
       "<tr>\n",
       "  <th>Dep. Variable:</th>       <td>DEATH_EVENT</td>   <th>  R-squared:         </th> <td>   0.402</td>\n",
       "</tr>\n",
       "<tr>\n",
       "  <th>Model:</th>                   <td>OLS</td>       <th>  Adj. R-squared:    </th> <td>   0.394</td>\n",
       "</tr>\n",
       "<tr>\n",
       "  <th>Method:</th>             <td>Least Squares</td>  <th>  F-statistic:       </th> <td>   49.51</td>\n",
       "</tr>\n",
       "<tr>\n",
       "  <th>Date:</th>             <td>Tue, 02 Feb 2021</td> <th>  Prob (F-statistic):</th> <td>8.01e-32</td>\n",
       "</tr>\n",
       "<tr>\n",
       "  <th>Time:</th>                 <td>14:16:35</td>     <th>  Log-Likelihood:    </th> <td> -119.54</td>\n",
       "</tr>\n",
       "<tr>\n",
       "  <th>No. Observations:</th>      <td>   299</td>      <th>  AIC:               </th> <td>   249.1</td>\n",
       "</tr>\n",
       "<tr>\n",
       "  <th>Df Residuals:</th>          <td>   294</td>      <th>  BIC:               </th> <td>   267.6</td>\n",
       "</tr>\n",
       "<tr>\n",
       "  <th>Df Model:</th>              <td>     4</td>      <th>                     </th>     <td> </td>   \n",
       "</tr>\n",
       "<tr>\n",
       "  <th>Covariance Type:</th>      <td>nonrobust</td>    <th>                     </th>     <td> </td>   \n",
       "</tr>\n",
       "</table>\n",
       "<table class=\"simpletable\">\n",
       "<tr>\n",
       "          <td></td>             <th>coef</th>     <th>std err</th>      <th>t</th>      <th>P>|t|</th>  <th>[0.025</th>    <th>0.975]</th>  \n",
       "</tr>\n",
       "<tr>\n",
       "  <th>const</th>             <td>    0.6138</td> <td>    0.140</td> <td>    4.388</td> <td> 0.000</td> <td>    0.338</td> <td>    0.889</td>\n",
       "</tr>\n",
       "<tr>\n",
       "  <th>age</th>               <td>    0.0053</td> <td>    0.002</td> <td>    2.881</td> <td> 0.004</td> <td>    0.002</td> <td>    0.009</td>\n",
       "</tr>\n",
       "<tr>\n",
       "  <th>ejection_fraction</th> <td>   -0.0101</td> <td>    0.002</td> <td>   -5.645</td> <td> 0.000</td> <td>   -0.014</td> <td>   -0.007</td>\n",
       "</tr>\n",
       "<tr>\n",
       "  <th>serum_creatinine</th>  <td>    0.0913</td> <td>    0.021</td> <td>    4.389</td> <td> 0.000</td> <td>    0.050</td> <td>    0.132</td>\n",
       "</tr>\n",
       "<tr>\n",
       "  <th>time</th>              <td>   -0.0027</td> <td>    0.000</td> <td>   -9.773</td> <td> 0.000</td> <td>   -0.003</td> <td>   -0.002</td>\n",
       "</tr>\n",
       "</table>\n",
       "<table class=\"simpletable\">\n",
       "<tr>\n",
       "  <th>Omnibus:</th>       <td>10.265</td> <th>  Durbin-Watson:     </th> <td>   1.604</td>\n",
       "</tr>\n",
       "<tr>\n",
       "  <th>Prob(Omnibus):</th> <td> 0.006</td> <th>  Jarque-Bera (JB):  </th> <td>   8.643</td>\n",
       "</tr>\n",
       "<tr>\n",
       "  <th>Skew:</th>          <td> 0.335</td> <th>  Prob(JB):          </th> <td>  0.0133</td>\n",
       "</tr>\n",
       "<tr>\n",
       "  <th>Kurtosis:</th>      <td> 2.506</td> <th>  Cond. No.          </th> <td>1.09e+03</td>\n",
       "</tr>\n",
       "</table><br/><br/>Notes:<br/>[1] Standard Errors assume that the covariance matrix of the errors is correctly specified.<br/>[2] The condition number is large, 1.09e+03. This might indicate that there are<br/>strong multicollinearity or other numerical problems."
      ],
      "text/plain": [
       "<class 'statsmodels.iolib.summary.Summary'>\n",
       "\"\"\"\n",
       "                            OLS Regression Results                            \n",
       "==============================================================================\n",
       "Dep. Variable:            DEATH_EVENT   R-squared:                       0.402\n",
       "Model:                            OLS   Adj. R-squared:                  0.394\n",
       "Method:                 Least Squares   F-statistic:                     49.51\n",
       "Date:                Tue, 02 Feb 2021   Prob (F-statistic):           8.01e-32\n",
       "Time:                        14:16:35   Log-Likelihood:                -119.54\n",
       "No. Observations:                 299   AIC:                             249.1\n",
       "Df Residuals:                     294   BIC:                             267.6\n",
       "Df Model:                           4                                         \n",
       "Covariance Type:            nonrobust                                         \n",
       "=====================================================================================\n",
       "                        coef    std err          t      P>|t|      [0.025      0.975]\n",
       "-------------------------------------------------------------------------------------\n",
       "const                 0.6138      0.140      4.388      0.000       0.338       0.889\n",
       "age                   0.0053      0.002      2.881      0.004       0.002       0.009\n",
       "ejection_fraction    -0.0101      0.002     -5.645      0.000      -0.014      -0.007\n",
       "serum_creatinine      0.0913      0.021      4.389      0.000       0.050       0.132\n",
       "time                 -0.0027      0.000     -9.773      0.000      -0.003      -0.002\n",
       "==============================================================================\n",
       "Omnibus:                       10.265   Durbin-Watson:                   1.604\n",
       "Prob(Omnibus):                  0.006   Jarque-Bera (JB):                8.643\n",
       "Skew:                           0.335   Prob(JB):                       0.0133\n",
       "Kurtosis:                       2.506   Cond. No.                     1.09e+03\n",
       "==============================================================================\n",
       "\n",
       "Notes:\n",
       "[1] Standard Errors assume that the covariance matrix of the errors is correctly specified.\n",
       "[2] The condition number is large, 1.09e+03. This might indicate that there are\n",
       "strong multicollinearity or other numerical problems.\n",
       "\"\"\""
      ]
     },
     "execution_count": 24,
     "metadata": {},
     "output_type": "execute_result"
    }
   ],
   "source": [
    "model.summary()"
   ]
  },
  {
   "cell_type": "markdown",
   "metadata": {},
   "source": [
    "Now there are no more predictors with a p-value > 0.05 and we have arrived at the final set of predictors for the model, and the backwards eliminiation is complate."
   ]
  },
  {
   "cell_type": "markdown",
   "metadata": {},
   "source": [
    "## Train and Test the Model\n",
    "\n",
    "I am splitting the data into 80% training, 20% testing"
   ]
  },
  {
   "cell_type": "code",
   "execution_count": 25,
   "metadata": {},
   "outputs": [],
   "source": [
    "x_train, x_test, y_train, y_test = train_test_split(x, y, test_size=0.2)"
   ]
  },
  {
   "cell_type": "code",
   "execution_count": 26,
   "metadata": {},
   "outputs": [
    {
     "data": {
      "text/plain": [
       "LogisticRegression()"
      ]
     },
     "execution_count": 26,
     "metadata": {},
     "output_type": "execute_result"
    }
   ],
   "source": [
    "log_reg = LogisticRegression()\n",
    "log_reg.fit(x_train, y_train)"
   ]
  },
  {
   "cell_type": "code",
   "execution_count": 27,
   "metadata": {},
   "outputs": [],
   "source": [
    "y_pred = log_reg.predict(x_test)"
   ]
  },
  {
   "cell_type": "code",
   "execution_count": 28,
   "metadata": {},
   "outputs": [
    {
     "data": {
      "text/plain": [
       "array([[35,  6],\n",
       "       [ 7, 12]], dtype=int64)"
      ]
     },
     "execution_count": 28,
     "metadata": {},
     "output_type": "execute_result"
    }
   ],
   "source": [
    "confusion_matrix(y_test, y_pred)"
   ]
  },
  {
   "cell_type": "code",
   "execution_count": 29,
   "metadata": {},
   "outputs": [
    {
     "data": {
      "text/plain": [
       "0.7833333333333333"
      ]
     },
     "execution_count": 29,
     "metadata": {},
     "output_type": "execute_result"
    }
   ],
   "source": [
    "accuracy_score(y_test,y_pred)"
   ]
  },
  {
   "cell_type": "markdown",
   "metadata": {},
   "source": [
    "Running the model repeatedly gives confusion matrix and accuracy scores that show the model making between 75% and 80% of predictions correctly. There is a high variability from prediction to prediction, given that the training and test data are split randomly and the overall data set is relatively small. Of course, this variability would be expected to decrease as the number of records in the data set increased."
   ]
  },
  {
   "cell_type": "markdown",
   "metadata": {},
   "source": [
    "#### Making the CAP curve\n",
    "\n",
    "A cumulative accuracy profile curve will give an indication of how much better this model is at predicting positive outcomes (heart disease deaths) than simple random selection.\n",
    "\n",
    "It is important to begin by plotting the expected accuracy of prediction when taking samples at random, which is simply a straight line from 0 to the total number of deaths. This will be the baseline against which the CAP of the model will be compared."
   ]
  },
  {
   "cell_type": "code",
   "execution_count": 30,
   "metadata": {},
   "outputs": [],
   "source": [
    "total = len(y_test)\n",
    "one_count = np.sum(y_test)\n",
    "zero_count = total - one_count"
   ]
  },
  {
   "cell_type": "code",
   "execution_count": 36,
   "metadata": {},
   "outputs": [
    {
     "data": {
      "text/plain": [
       "<matplotlib.legend.Legend at 0x1879a6e3220>"
      ]
     },
     "execution_count": 36,
     "metadata": {},
     "output_type": "execute_result"
    },
    {
     "data": {
      "image/png": "[encoded data removed]",
      "text/plain": [
       "<Figure size 432x288 with 1 Axes>"
      ]
     },
     "metadata": {
      "needs_background": "light"
     },
     "output_type": "display_data"
    }
   ],
   "source": [
    "plt.plot([0, total], [0, one_count], label='Cum_deaths_random')\n",
    "plt.xlabel('No. Samples')\n",
    "plt.ylabel('No. Deaths')\n",
    "plt.legend()"
   ]
  },
  {
   "cell_type": "markdown",
   "metadata": {},
   "source": [
    "Now, plot the cumulative number of deaths when taking the samples in order of most likely to die to least likely, as predicted by the model."
   ]
  },
  {
   "cell_type": "code",
   "execution_count": 32,
   "metadata": {},
   "outputs": [],
   "source": [
    "lm = [y for _, y in sorted(zip(y_pred, y_test), reverse = True)]"
   ]
  },
  {
   "cell_type": "code",
   "execution_count": 33,
   "metadata": {},
   "outputs": [],
   "source": [
    "x_cap = np.arange(0, total+1)\n",
    "y_cap = np.append([0], np.cumsum(lm))"
   ]
  },
  {
   "cell_type": "code",
   "execution_count": 37,
   "metadata": {},
   "outputs": [
    {
     "data": {
      "text/plain": [
       "<matplotlib.legend.Legend at 0x1879a76e3d0>"
      ]
     },
     "execution_count": 37,
     "metadata": {},
     "output_type": "execute_result"
    },
    {
     "data": {
      "image/png": "[encoded data removed]",
      "text/plain": [
       "<Figure size 432x288 with 1 Axes>"
      ]
     },
     "metadata": {
      "needs_background": "light"
     },
     "output_type": "display_data"
    }
   ],
   "source": [
    "plt.plot([0, total], [0, one_count], label='Cum_deaths_random')\n",
    "plt.plot(x_cap, y_cap, label = 'Cum_deaths_predicted')\n",
    "plt.xlabel('No. Samples')\n",
    "plt.ylabel('No. Deaths')\n",
    "plt.legend()"
   ]
  },
  {
   "cell_type": "markdown",
   "metadata": {},
   "source": [
    "As we can see, the CAP curve reaches 100% of the cumulative deaths very quickly, before the 50% point of the test sample size, and strongly resembles the ideal CAP curve. This suggests the model is over-fit.\n",
    "\n",
    "Again, these innaccuracies are most likely a side effect of the small sample size used in this work book. I guess heart disease will continue..."
   ]
  }
 ],
 "metadata": {
  "kernelspec": {
   "display_name": "Python 3",
   "language": "python",
   "name": "python3"
  },
  "language_info": {
   "codemirror_mode": {
    "name": "ipython",
    "version": 3
   },
   "file_extension": ".py",
   "mimetype": "text/x-python",
   "name": "python",
   "nbconvert_exporter": "python",
   "pygments_lexer": "ipython3",
   "version": "3.9.0"
  }
 },
 "nbformat": 4,
 "nbformat_minor": 4
}
